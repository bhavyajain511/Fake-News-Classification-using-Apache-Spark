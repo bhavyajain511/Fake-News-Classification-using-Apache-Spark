{
 "cells": [
  {
   "cell_type": "markdown",
   "metadata": {
    "id": "flINDcvRwNvB"
   },
   "source": [
    "# Exploratory Data Analysis"
   ]
  },
  {
   "cell_type": "markdown",
   "metadata": {
    "id": "_OROu2jdwWRT"
   },
   "source": [
    "## PySpark Setup"
   ]
  },
  {
   "cell_type": "code",
   "execution_count": 1,
   "metadata": {},
   "outputs": [
    {
     "name": "stdout",
     "output_type": "stream",
     "text": [
      "Requirement already satisfied: pyspark in /Library/Frameworks/Python.framework/Versions/3.11/lib/python3.11/site-packages (3.5.5)\n",
      "Requirement already satisfied: py4j==0.10.9.7 in /Library/Frameworks/Python.framework/Versions/3.11/lib/python3.11/site-packages (from pyspark) (0.10.9.7)\n"
     ]
    }
   ],
   "source": [
    "import os\n",
    "current_directory = os.getcwd()\n",
    "os.environ[\"JAVA_HOME\"] = \"/Library/Java/JavaVirtualMachines/jdk-23.jdk/Contents/Home\"  \n",
    "os.environ[\"SPARK_HOME\"] = os.path.join(current_directory, \"spark-3.5.5-bin-hadoop3\")\n",
    "\n",
    "os.environ[\"PATH\"] = os.path.join(os.environ[\"SPARK_HOME\"], \"bin\") + \":\" + os.environ[\"PATH\"]\n",
    "os.environ[\"SPARK_LOCAL_IP\"] = \"127.0.0.1\"\n",
    "\n",
    "# Install necessary libraries\n",
    "!pip install -q findspark\n",
    "!pip install pyspark\n",
    "\n",
    "# Initialize findspark to locate the Spark home directory\n",
    "import findspark\n",
    "findspark.init()\n",
    "\n",
    "import warnings\n",
    "warnings.filterwarnings(\"ignore\")"
   ]
  },
  {
   "cell_type": "code",
   "execution_count": 2,
   "metadata": {},
   "outputs": [
    {
     "name": "stderr",
     "output_type": "stream",
     "text": [
      "Setting default log level to \"WARN\".\n",
      "To adjust logging level use sc.setLogLevel(newLevel). For SparkR, use setLogLevel(newLevel).\n",
      "25/04/04 00:59:49 WARN NativeCodeLoader: Unable to load native-hadoop library for your platform... using builtin-java classes where applicable\n"
     ]
    },
    {
     "name": "stdout",
     "output_type": "stream",
     "text": [
      "Spark Session Created Successfully!\n"
     ]
    }
   ],
   "source": [
    "from pyspark.sql import SparkSession\n",
    "from pyspark.sql.types import StructType,StructField, StringType, IntegerType\n",
    "\n",
    "import pandas as pd\n",
    "\n",
    "spark = SparkSession.builder \\\n",
    "    .appName(\"EDA\") \\\n",
    "    .master(\"local[*]\") \\\n",
    "    .config(\"spark.driver.extraJavaOptions\", \"-Djava.security.manager=allow\") \\\n",
    "    .config(\"spark.executor.extraJavaOptions\", \"-Djava.security.manager=allow\") \\\n",
    "    .getOrCreate()\n",
    "\n",
    "spark.sparkContext.setLogLevel(\"ERROR\")\n",
    "\n",
    "print(\"Spark Session Created Successfully!\")"
   ]
  },
  {
   "cell_type": "markdown",
   "metadata": {
    "id": "fwr39OZlwYfl"
   },
   "source": [
    "## Read Dataset"
   ]
  },
  {
   "cell_type": "code",
   "execution_count": 3,
   "metadata": {
    "colab": {
     "base_uri": "https://localhost:8080/"
    },
    "id": "SJyOb7_9_uVo",
    "outputId": "fb8a6948-40be-4f7d-a603-e2f286608bde"
   },
   "outputs": [
    {
     "name": "stderr",
     "output_type": "stream",
     "text": [
      "                                                                                \r"
     ]
    },
    {
     "name": "stdout",
     "output_type": "stream",
     "text": [
      "+-----+--------------------+--------------------+--------------------+-----+\n",
      "|index|               title|              author|                text|label|\n",
      "+-----+--------------------+--------------------+--------------------+-----+\n",
      "|    0|House Dem Aide: W...|       Darrell Lucus|House Dem Aide: W...|    1|\n",
      "|    1|FLYNN: Hillary Cl...|     Daniel J. Flynn|Ever get the feel...|    0|\n",
      "|    2|Why the Truth Mig...|  Consortiumnews.com|Why the Truth Mig...|    1|\n",
      "|    3|15 Civilians Kill...|     Jessica Purkiss|Videos 15 Civilia...|    1|\n",
      "|    4|Iranian woman jai...|      Howard Portnoy|Print \\nAn Irania...|    1|\n",
      "|    5|Jackie Mason: Hol...|     Daniel Nussbaum|In these trying t...|    0|\n",
      "|    6|Life: Life Of Lux...|                 NaN|Ever wonder how B...|    1|\n",
      "|    7|Benoît Hamon Wins...|     Alissa J. Rubin|PARIS  —   France...|    0|\n",
      "|    8|Excerpts From a D...|                 NaN|Donald J. Trump i...|    0|\n",
      "|    9|A Back-Channel Pl...|Megan Twohey and ...|A week before Mic...|    0|\n",
      "+-----+--------------------+--------------------+--------------------+-----+\n",
      "only showing top 10 rows\n",
      "\n"
     ]
    }
   ],
   "source": [
    "from pyspark.sql.types import StructType,StructField, StringType, IntegerType\n",
    "import pandas as pd\n",
    "\n",
    "mySchema = StructType([ StructField(\"index\", IntegerType(), True)\\\n",
    "                       ,StructField(\"title\", StringType(), True)\\\n",
    "                       ,StructField(\"author\", StringType(), True)\\\n",
    "                       ,StructField(\"text\", StringType(), True)\\\n",
    "                       ,StructField(\"label\", IntegerType(), True)])\n",
    "\n",
    "path = \"./train.csv\"\n",
    "pandas_df = pd.read_csv(path, header = 0)\n",
    "\n",
    "spark_df =spark.createDataFrame(pandas_df, schema = mySchema)\n",
    "spark_df.show(10)"
   ]
  },
  {
   "cell_type": "markdown",
   "metadata": {
    "id": "CKlkIxNkwbO3"
   },
   "source": [
    "## Distinct Authors"
   ]
  },
  {
   "cell_type": "code",
   "execution_count": 4,
   "metadata": {
    "colab": {
     "base_uri": "https://localhost:8080/"
    },
    "id": "bkiZSmwUW7f0",
    "outputId": "355fc9b2-ad1f-44ec-ad9d-09c70b1837b6"
   },
   "outputs": [
    {
     "name": "stderr",
     "output_type": "stream",
     "text": [
      "/Users/bhavyajain/Desktop/sem6/ai_hardware/apache-spark-project/spark-3.5.5-bin-hadoop3/python/lib/pyspark.zip/pyspark/shuffle.py:65: UserWarning: Please install psutil to have better support with spilling\n",
      "/Users/bhavyajain/Desktop/sem6/ai_hardware/apache-spark-project/spark-3.5.5-bin-hadoop3/python/lib/pyspark.zip/pyspark/shuffle.py:65: UserWarning: Please install psutil to have better support with spilling\n",
      "/Users/bhavyajain/Desktop/sem6/ai_hardware/apache-spark-project/spark-3.5.5-bin-hadoop3/python/lib/pyspark.zip/pyspark/shuffle.py:65: UserWarning: Please install psutil to have better support with spilling\n",
      "/Users/bhavyajain/Desktop/sem6/ai_hardware/apache-spark-project/spark-3.5.5-bin-hadoop3/python/lib/pyspark.zip/pyspark/shuffle.py:65: UserWarning: Please install psutil to have better support with spilling\n",
      "/Users/bhavyajain/Desktop/sem6/ai_hardware/apache-spark-project/spark-3.5.5-bin-hadoop3/python/lib/pyspark.zip/pyspark/shuffle.py:65: UserWarning: Please install psutil to have better support with spilling\n",
      "/Users/bhavyajain/Desktop/sem6/ai_hardware/apache-spark-project/spark-3.5.5-bin-hadoop3/python/lib/pyspark.zip/pyspark/shuffle.py:65: UserWarning: Please install psutil to have better support with spilling\n",
      "/Users/bhavyajain/Desktop/sem6/ai_hardware/apache-spark-project/spark-3.5.5-bin-hadoop3/python/lib/pyspark.zip/pyspark/shuffle.py:65: UserWarning: Please install psutil to have better support with spilling\n",
      "/Users/bhavyajain/Desktop/sem6/ai_hardware/apache-spark-project/spark-3.5.5-bin-hadoop3/python/lib/pyspark.zip/pyspark/shuffle.py:65: UserWarning: Please install psutil to have better support with spilling\n",
      "/Users/bhavyajain/Desktop/sem6/ai_hardware/apache-spark-project/spark-3.5.5-bin-hadoop3/python/lib/pyspark.zip/pyspark/shuffle.py:65: UserWarning: Please install psutil to have better support with spilling\n",
      "/Users/bhavyajain/Desktop/sem6/ai_hardware/apache-spark-project/spark-3.5.5-bin-hadoop3/python/lib/pyspark.zip/pyspark/shuffle.py:65: UserWarning: Please install psutil to have better support with spilling\n",
      "/Users/bhavyajain/Desktop/sem6/ai_hardware/apache-spark-project/spark-3.5.5-bin-hadoop3/python/lib/pyspark.zip/pyspark/shuffle.py:65: UserWarning: Please install psutil to have better support with spilling\n",
      "/Users/bhavyajain/Desktop/sem6/ai_hardware/apache-spark-project/spark-3.5.5-bin-hadoop3/python/lib/pyspark.zip/pyspark/shuffle.py:65: UserWarning: Please install psutil to have better support with spilling\n",
      "/Users/bhavyajain/Desktop/sem6/ai_hardware/apache-spark-project/spark-3.5.5-bin-hadoop3/python/lib/pyspark.zip/pyspark/shuffle.py:65: UserWarning: Please install psutil to have better support with spilling\n",
      "/Users/bhavyajain/Desktop/sem6/ai_hardware/apache-spark-project/spark-3.5.5-bin-hadoop3/python/lib/pyspark.zip/pyspark/shuffle.py:65: UserWarning: Please install psutil to have better support with spilling\n",
      "/Users/bhavyajain/Desktop/sem6/ai_hardware/apache-spark-project/spark-3.5.5-bin-hadoop3/python/lib/pyspark.zip/pyspark/shuffle.py:65: UserWarning: Please install psutil to have better support with spilling\n",
      "/Users/bhavyajain/Desktop/sem6/ai_hardware/apache-spark-project/spark-3.5.5-bin-hadoop3/python/lib/pyspark.zip/pyspark/shuffle.py:65: UserWarning: Please install psutil to have better support with spilling\n",
      "                                                                                \r"
     ]
    },
    {
     "data": {
      "text/plain": [
       "4194"
      ]
     },
     "execution_count": 4,
     "metadata": {},
     "output_type": "execute_result"
    }
   ],
   "source": [
    "# Distinct Authors\n",
    "(spark_df\n",
    "    .filter(spark_df[\"author\"] != \"NaN\")    # Remove NaN values (missing values)\n",
    "    .select(\"author\")                       # Select author attribute\n",
    "    .rdd                                    # Conver to RDD\n",
    "    .map(lambda x: x[0].lower())            # Convert to lower case letters\n",
    "    .distinct()                             # Get unique author values\n",
    "    .count()                                # Count distinct authors\n",
    ")\n"
   ]
  },
  {
   "cell_type": "markdown",
   "metadata": {
    "id": "oIYMs86CwjYD"
   },
   "source": [
    "## Class Size"
   ]
  },
  {
   "cell_type": "code",
   "execution_count": 6,
   "metadata": {
    "colab": {
     "base_uri": "https://localhost:8080/",
     "height": 352
    },
    "id": "AiWst6Sxp5VE",
    "outputId": "abf8ef39-6bbd-42ff-acc1-9095b91dd7a6"
   },
   "outputs": [
    {
     "name": "stderr",
     "output_type": "stream",
     "text": [
      "                                                                                \r"
     ]
    },
    {
     "data": {
      "image/png": "[encoded data removed]",
      "text/plain": [
       "<Figure size 1200x500 with 1 Axes>"
      ]
     },
     "metadata": {},
     "output_type": "display_data"
    }
   ],
   "source": [
    "import seaborn as sns\n",
    "import matplotlib.pyplot as plt\n",
    "\n",
    "plt.rcParams[\"figure.figsize\"] = [12, 5]\n",
    "plt.rcParams[\"figure.autolayout\"] = True\n",
    "plt.rcParams.update({'font.size': 18})\n",
    "df = pd.DataFrame(dict(col1=spark_df.select(\"label\").rdd.map(lambda x: x[0]).collect()))\n",
    "\n",
    "ax = sns.countplot(x=\"col1\", data=df)\n",
    "ax.set_ylim([0, 12000])\n",
    "ax.set_xlabel(\"Target Column\")\n",
    "ax.set_title(\"Fake and Reliable News Instances Count\")\n",
    "ax.set_xticklabels([\"Reliable\", \"Fake\"])\n",
    "\n",
    "for patch in ax.patches:\n",
    "   ax.annotate('{:.0f}'.format(patch.get_height()),                # Count\n",
    "               (patch.get_x()+0.35, patch.get_height()+100),          # x,y coordinates for label.\n",
    "               fontsize=16)   \n",
    "   \n",
    "plt.show()"
   ]
  },
  {
   "cell_type": "markdown",
   "metadata": {
    "id": "e061o-PFvWAP"
   },
   "source": [
    "## Text is missing"
   ]
  },
  {
   "cell_type": "code",
   "execution_count": 7,
   "metadata": {
    "colab": {
     "base_uri": "https://localhost:8080/"
    },
    "id": "T7sMCu8LtGGz",
    "outputId": "8ac6dbd0-e241-404b-cad4-8c027115204c"
   },
   "outputs": [
    {
     "name": "stderr",
     "output_type": "stream",
     "text": [
      "                                                                                \r"
     ]
    },
    {
     "name": "stdout",
     "output_type": "stream",
     "text": [
      "Text is NaN: 39 Rows\n"
     ]
    },
    {
     "name": "stderr",
     "output_type": "stream",
     "text": [
      "                                                                                \r"
     ]
    },
    {
     "data": {
      "text/plain": [
       "39"
      ]
     },
     "execution_count": 7,
     "metadata": {},
     "output_type": "execute_result"
    }
   ],
   "source": [
    "df_no_text = spark_df.filter(spark_df[\"text\"] == \"NaN\")\n",
    "\n",
    "print(\"Text is NaN: \" + str(df_no_text.count()) + \" Rows\")\n",
    "df_no_text.filter(df_no_text[\"author\"] == \"NaN\").count()"
   ]
  },
  {
   "cell_type": "code",
   "execution_count": 9,
   "metadata": {
    "colab": {
     "base_uri": "https://localhost:8080/"
    },
    "id": "akJLEIZn12Kx",
    "outputId": "9701d40d-75e4-46e8-fbcb-d37f84333bc9"
   },
   "outputs": [
    {
     "name": "stderr",
     "output_type": "stream",
     "text": [
      "                                                                                \r"
     ]
    },
    {
     "data": {
      "text/plain": [
       "0"
      ]
     },
     "execution_count": 9,
     "metadata": {},
     "output_type": "execute_result"
    }
   ],
   "source": [
    "df_no_text.filter(df_no_text[\"title\"] == \"NaN\").count()"
   ]
  },
  {
   "cell_type": "code",
   "execution_count": 10,
   "metadata": {
    "colab": {
     "base_uri": "https://localhost:8080/"
    },
    "id": "AOJxZvj0wBsF",
    "outputId": "4ba19d86-281c-4f80-cc87-768a6e6d1842"
   },
   "outputs": [
    {
     "name": "stderr",
     "output_type": "stream",
     "text": [
      "                                                                                \r"
     ]
    },
    {
     "data": {
      "text/plain": [
       "True"
      ]
     },
     "execution_count": 10,
     "metadata": {},
     "output_type": "execute_result"
    }
   ],
   "source": [
    "df_no_text.filter(df_no_text[\"label\"] == 1).count() == df_no_text.count()"
   ]
  },
  {
   "cell_type": "markdown",
   "metadata": {
    "id": "GW7lHxzcvcIe"
   },
   "source": [
    "1. There are 39 rows missing text\n",
    "1. All text missing rows are also missing the author!\n",
    "2. All text missing rows are fake!"
   ]
  },
  {
   "cell_type": "markdown",
   "metadata": {
    "id": "sZKWiSZ5vQSL"
   },
   "source": [
    "## Title is missing"
   ]
  },
  {
   "cell_type": "code",
   "execution_count": null,
   "metadata": {
    "id": "SXC0youOtQs6"
   },
   "outputs": [],
   "source": [
    "df_no_title = spark_df.filter(spark_df[\"title\"] == \"NaN\")\n"
   ]
  },
  {
   "cell_type": "code",
   "execution_count": null,
   "metadata": {
    "colab": {
     "base_uri": "https://localhost:8080/"
    },
    "id": "O0boQ5V8txpY",
    "outputId": "9b387183-f931-4666-dfc5-74cd1565b5ab"
   },
   "outputs": [],
   "source": [
    "df_no_title.filter(df_no_title[\"author\"] == \"NaN\").count() # 0\n",
    "df_no_title.filter(df_no_title[\"text\"] == \"NaN\").count() # 0"
   ]
  },
  {
   "cell_type": "code",
   "execution_count": null,
   "metadata": {
    "colab": {
     "base_uri": "https://localhost:8080/"
    },
    "id": "h4hSHASeul5V",
    "outputId": "1968b2c2-cdf5-4a94-fec4-a2bf476ac6d5"
   },
   "outputs": [],
   "source": [
    "df_no_title.filter(df_no_title[\"label\"] == 1).count() == df_no_title.count()"
   ]
  },
  {
   "cell_type": "code",
   "execution_count": null,
   "metadata": {
    "colab": {
     "base_uri": "https://localhost:8080/"
    },
    "id": "Ju703hqCwd6K",
    "outputId": "247d5284-739e-47a9-e8c5-866b02cfc631"
   },
   "outputs": [],
   "source": [
    "df_no_title.count()"
   ]
  },
  {
   "cell_type": "markdown",
   "metadata": {
    "id": "vpLaPwpmvhlt"
   },
   "source": [
    "1. There are 558 rows missing a title!\n",
    "1. All rows missing title, do not also miss both author and text values\n",
    "1. All rows missing title are fake!\n"
   ]
  },
  {
   "cell_type": "markdown",
   "metadata": {
    "id": "G2-iMatSvZNg"
   },
   "source": [
    "## Author is missing"
   ]
  },
  {
   "cell_type": "code",
   "execution_count": null,
   "metadata": {
    "colab": {
     "base_uri": "https://localhost:8080/"
    },
    "id": "geu8iWR4wXhC",
    "outputId": "9419bd4a-1154-4602-c898-9051c4b4cb5b"
   },
   "outputs": [],
   "source": [
    "df_no_author = spark_df.filter(spark_df[\"author\"] == \"NaN\")\n",
    "df_no_author.count()"
   ]
  },
  {
   "cell_type": "code",
   "execution_count": null,
   "metadata": {
    "colab": {
     "base_uri": "https://localhost:8080/"
    },
    "id": "C14oJ_GBwcJX",
    "outputId": "0acdb177-27f3-479c-c25e-4354c393a788"
   },
   "outputs": [],
   "source": [
    "df_no_author.filter(df_no_author[\"label\"] == 1).count()"
   ]
  },
  {
   "cell_type": "code",
   "execution_count": null,
   "metadata": {
    "colab": {
     "base_uri": "https://localhost:8080/"
    },
    "id": "ih7mjvrYwvNc",
    "outputId": "08a463ed-07e7-496d-f8b3-a7a7003a9e20"
   },
   "outputs": [],
   "source": [
    "df_no_author.filter(df_no_author[\"label\"] == 0).count()"
   ]
  },
  {
   "cell_type": "code",
   "execution_count": null,
   "metadata": {
    "colab": {
     "base_uri": "https://localhost:8080/"
    },
    "id": "vVzBguqjxfV3",
    "outputId": "b512e0e3-abf4-4985-f096-882f08d860dc"
   },
   "outputs": [],
   "source": [
    "1957+558\n",
    "(2515-26)/2515"
   ]
  },
  {
   "cell_type": "markdown",
   "metadata": {
    "id": "tL3HfYC4wz7w"
   },
   "source": [
    "1. There are 1957 rows missing an author!\n",
    "1. Among these 1957 rows, 1931 are fake and 26 are reliable!\n",
    "1. Overall missing values could indicate fake news since the majority of rows missing one or more values are also fake. In other words: \n",
    "There are 1957 rows missing an author and an additional 558 rows missing a title. The rows missing the text are included since they are all missing the author as well. Overall there are 2515 rows missing one or more feature. 26 of them are marked as reliable which means that 98.96% of all rows missing at least one feature are fake!"
   ]
  },
  {
   "cell_type": "markdown",
   "metadata": {
    "id": "atwxGG5Bx7Uc"
   },
   "source": [
    "## Not missing at all"
   ]
  },
  {
   "cell_type": "code",
   "execution_count": null,
   "metadata": {
    "colab": {
     "base_uri": "https://localhost:8080/"
    },
    "id": "Hu21lbVowyEQ",
    "outputId": "b94a31bb-f4c9-4e07-c71e-c75d6789b60e"
   },
   "outputs": [],
   "source": [
    "df_all_features = (spark_df\n",
    "                    .filter(spark_df[\"author\"] != \"NaN\")\n",
    "                    .filter(spark_df[\"title\"] != \"NaN\"))\n",
    "\n",
    "df_all_features.count()"
   ]
  },
  {
   "cell_type": "code",
   "execution_count": null,
   "metadata": {
    "colab": {
     "base_uri": "https://localhost:8080/"
    },
    "id": "wY74sepPyPYJ",
    "outputId": "a7b50d7c-18f0-47ce-c14c-bf9282656cd2"
   },
   "outputs": [],
   "source": [
    "df_all_features.filter(df_all_features[\"label\"] == 0).count()"
   ]
  },
  {
   "cell_type": "code",
   "execution_count": null,
   "metadata": {
    "colab": {
     "base_uri": "https://localhost:8080/"
    },
    "id": "lIQQqRe3yZnH",
    "outputId": "a40f988c-fddd-4dbb-87f2-a0fd8a08dcf2",
    "scrolled": true
   },
   "outputs": [],
   "source": [
    "from pyspark.sql.functions import col\n",
    "df_all_features.filter(col(\"label\") == 1).count()"
   ]
  },
  {
   "cell_type": "markdown",
   "metadata": {
    "id": "eUVDK8Eky2BS"
   },
   "source": [
    "1. There are 18,285 rows that are not missing any feature\n",
    "1. 10,361 out of these rows are reliable, whereas the other 7,924 are marked as fake!\n"
   ]
  }
 ],
 "metadata": {
  "colab": {
   "collapsed_sections": [],
   "name": "EDA.ipynb",
   "provenance": [],
   "toc_visible": true
  },
  "kernelspec": {
   "display_name": "Python 3 (ipykernel)",
   "language": "python",
   "name": "python3"
  },
  "language_info": {
   "codemirror_mode": {
    "name": "ipython",
    "version": 3
   },
   "file_extension": ".py",
   "mimetype": "text/x-python",
   "name": "python",
   "nbconvert_exporter": "python",
   "pygments_lexer": "ipython3",
   "version": "3.11.2"
  }
 },
 "nbformat": 4,
 "nbformat_minor": 4
}
